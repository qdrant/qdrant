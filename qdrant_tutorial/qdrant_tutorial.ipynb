{
 "cells": [
  {
   "cell_type": "code",
   "execution_count": 19,
   "id": "af440b84-a8d6-409c-bb6b-e85019950e62",
   "metadata": {},
   "outputs": [],
   "source": [
    "from qdrant_client import QdrantClient\n",
    "from qdrant_client.http import models\n",
    "import numpy as np\n",
    "from faker import Faker\n"
   ]
  },
  {
   "cell_type": "code",
   "execution_count": 20,
   "id": "7f79f843-30cb-48b4-a8f2-152ecdcdf6db",
   "metadata": {},
   "outputs": [
    {
     "data": {
      "text/plain": [
       "<qdrant_client.qdrant_client.QdrantClient at 0x128cca910>"
      ]
     },
     "execution_count": 20,
     "metadata": {},
     "output_type": "execute_result"
    }
   ],
   "source": [
    "# client = QdrantClient(\":memory:\") # Create in-memory Qdrant instance, for testing, CI/CD\n",
    "# OR\n",
    "client = QdrantClient(host=\"localhost\",port=6333)\n",
    "client"
   ]
  },
  {
   "cell_type": "code",
   "execution_count": 22,
   "id": "59cf4e59-57ef-48d7-945b-45e5d26771a8",
   "metadata": {},
   "outputs": [
    {
     "data": {
      "text/plain": [
       "True"
      ]
     },
     "execution_count": 22,
     "metadata": {},
     "output_type": "execute_result"
    }
   ],
   "source": [
    "my_collection=\"first_collection\"\n",
    "client.create_collection(\n",
    "    collection_name=my_collection,\n",
    "    vectors_config=models.VectorParams(size=100, distance=models.Distance.COSINE)\n",
    ")"
   ]
  },
  {
   "cell_type": "code",
   "execution_count": 24,
   "id": "7cdbcba9-67f9-4dd4-97da-b93a9ac1b1df",
   "metadata": {},
   "outputs": [],
   "source": [
    "data = np.random.uniform(low=-1.0, high=1.0,size=(1_000, 100))\n",
    "index = list(range(1_000))"
   ]
  },
  {
   "cell_type": "code",
   "execution_count": 25,
   "id": "3497822f-5a4a-4f86-9d98-bd7860a98778",
   "metadata": {},
   "outputs": [
    {
     "data": {
      "text/plain": [
       "array([[-9.79315018e-01,  7.75378270e-01,  6.26436392e-01,\n",
       "         5.94547273e-01,  8.78138741e-01,  9.01078628e-01,\n",
       "        -3.51573503e-01,  3.25093346e-01,  7.11653964e-01,\n",
       "         9.12815010e-05],\n",
       "       [-3.37259929e-01, -9.25879977e-01, -5.95275466e-01,\n",
       "         1.17507993e-01,  5.27351776e-02, -1.66159915e-02,\n",
       "         1.84497939e-01,  1.38202396e-01,  9.42364086e-01,\n",
       "        -9.94900079e-01]])"
      ]
     },
     "execution_count": 25,
     "metadata": {},
     "output_type": "execute_result"
    }
   ],
   "source": [
    "data[:2,:10]"
   ]
  },
  {
   "cell_type": "code",
   "execution_count": 26,
   "id": "aea3c8bd-a37c-49c0-a54f-d0b5cce2516b",
   "metadata": {},
   "outputs": [
    {
     "data": {
      "text/plain": [
       "[990, 991, 992, 993, 994, 995, 996, 997, 998, 999]"
      ]
     },
     "execution_count": 26,
     "metadata": {},
     "output_type": "execute_result"
    }
   ],
   "source": [
    "index[-10:]"
   ]
  },
  {
   "cell_type": "code",
   "execution_count": 27,
   "id": "3dc41194-86d3-4ba0-9675-e917c4e51248",
   "metadata": {},
   "outputs": [
    {
     "data": {
      "text/plain": [
       "UpdateResult(operation_id=0, status=<UpdateStatus.COMPLETED: 'completed'>)"
      ]
     },
     "execution_count": 27,
     "metadata": {},
     "output_type": "execute_result"
    }
   ],
   "source": [
    "client.upsert(\n",
    "    collection_name=my_collection,\n",
    "    points=models.Batch(\n",
    "        ids=index,\n",
    "        vectors=data.tolist()\n",
    "    )\n",
    ")"
   ]
  },
  {
   "cell_type": "code",
   "execution_count": 28,
   "id": "a83af6f4-bfac-460c-b593-517bcd6db07f",
   "metadata": {},
   "outputs": [
    {
     "data": {
      "text/plain": [
       "[Record(id=10, payload={}, vector=None, shard_key=None, order_value=None),\n",
       " Record(id=14, payload={}, vector=None, shard_key=None, order_value=None),\n",
       " Record(id=500, payload={}, vector=None, shard_key=None, order_value=None)]"
      ]
     },
     "execution_count": 28,
     "metadata": {},
     "output_type": "execute_result"
    }
   ],
   "source": [
    "client.retrieve(\n",
    "    collection_name = my_collection,\n",
    "    ids=[10, 14,500],\n",
    ")"
   ]
  },
  {
   "cell_type": "code",
   "execution_count": 30,
   "id": "6974de5b-a694-4549-bb7f-1ade8dc1a607",
   "metadata": {},
   "outputs": [
    {
     "data": {
      "text/plain": [
       "('Calvin Williams', '9316 Rachel Avenue\\nWest Patrickside, MI 14643')"
      ]
     },
     "execution_count": 30,
     "metadata": {},
     "output_type": "execute_result"
    }
   ],
   "source": [
    "fake_something = Faker()\n",
    "fake_something.name(), fake_something.address()"
   ]
  },
  {
   "cell_type": "code",
   "execution_count": 31,
   "id": "bc1a9387-69d9-4766-aa0d-c5557cd01e5c",
   "metadata": {},
   "outputs": [
    {
     "data": {
      "text/plain": [
       "[{'artist': 'Tiffany Woods',\n",
       "  'song': 'enjoy employee quality',\n",
       "  'url_song': 'http://www.willis.com/',\n",
       "  'year': '1993',\n",
       "  'country': 'Montserrat'},\n",
       " {'artist': 'Jacob Smith',\n",
       "  'song': 'project wait probably',\n",
       "  'url_song': 'http://decker.com/',\n",
       "  'year': '1972',\n",
       "  'country': 'Algeria'},\n",
       " {'artist': 'Jeremy Bond',\n",
       "  'song': 'on little close',\n",
       "  'url_song': 'http://www.sanders-gomez.com/',\n",
       "  'year': '1983',\n",
       "  'country': 'United Arab Emirates'}]"
      ]
     },
     "execution_count": 31,
     "metadata": {},
     "output_type": "execute_result"
    }
   ],
   "source": [
    "payload=[]\n",
    "\n",
    "for i in range(1_000):\n",
    "    payload.append(\n",
    "        {\n",
    "            \"artist\": fake_something.name(),\n",
    "            \"song\": \" \".join(fake_something.words()),\n",
    "            \"url_song\": fake_something.url(),\n",
    "            \"year\": fake_something.year(),\n",
    "            \"country\": fake_something.country(),\n",
    "        }\n",
    "    )\n",
    "payload[:3] \n",
    "            "
   ]
  },
  {
   "cell_type": "code",
   "execution_count": 32,
   "id": "19442aaf-2230-44af-a2d8-727231e41f52",
   "metadata": {},
   "outputs": [
    {
     "data": {
      "text/plain": [
       "UpdateResult(operation_id=1, status=<UpdateStatus.COMPLETED: 'completed'>)"
      ]
     },
     "execution_count": 32,
     "metadata": {},
     "output_type": "execute_result"
    }
   ],
   "source": [
    "client.upsert(\n",
    "    collection_name = my_collection,\n",
    "    points=models.Batch(\n",
    "        ids=index,\n",
    "        vectors=data.tolist(),\n",
    "        payloads=payload\n",
    "    )\n",
    ")"
   ]
  },
  {
   "cell_type": "code",
   "execution_count": 33,
   "id": "80bc0251-4a3d-4361-b9ba-1aad766e81da",
   "metadata": {},
   "outputs": [],
   "source": [
    "## Semantic Search"
   ]
  },
  {
   "cell_type": "code",
   "execution_count": 34,
   "id": "68c07703-9b3b-4145-be06-dcd9e71216a2",
   "metadata": {},
   "outputs": [
    {
     "data": {
      "text/plain": [
       "[0.6578673090658924,\n",
       " 0.13773399332691016,\n",
       " 0.4332337149372054,\n",
       " -0.3224406657619332,\n",
       " 0.40259657647617253]"
      ]
     },
     "execution_count": 34,
     "metadata": {},
     "output_type": "execute_result"
    }
   ],
   "source": [
    "living_la_vida_loca = np.random.uniform(low=-1.0, high=1.0, size=(100)).tolist()\n",
    "living_la_vida_loca[:5]"
   ]
  },
  {
   "cell_type": "code",
   "execution_count": 37,
   "id": "1f890e33-c17f-488c-a2b5-fb798752ff0b",
   "metadata": {},
   "outputs": [
    {
     "name": "stderr",
     "output_type": "stream",
     "text": [
      "/var/folders/px/41xvj7m11wgfhh9v8cjwg6lr0000gn/T/ipykernel_9443/228176411.py:1: DeprecationWarning: `search` method is deprecated and will be removed in the future. Use `query_points` instead.\n",
      "  client.search(\n"
     ]
    },
    {
     "data": {
      "text/plain": [
       "[ScoredPoint(id=59, version=1, score=0.36187574, payload={'artist': 'Helen Malone', 'song': 'kind piece measure', 'url_song': 'http://watkins.biz/', 'year': '1977', 'country': 'Benin'}, vector=None, shard_key=None, order_value=None),\n",
       " ScoredPoint(id=644, version=1, score=0.3346107, payload={'artist': 'Bradley Dodson', 'song': 'former something instead', 'url_song': 'https://miles.org/', 'year': '1994', 'country': 'Guinea-Bissau'}, vector=None, shard_key=None, order_value=None),\n",
       " ScoredPoint(id=768, version=1, score=0.26811597, payload={'artist': 'Andrew King', 'song': 'with discussion remain', 'url_song': 'http://www.dillon-stewart.com/', 'year': '1984', 'country': 'Montserrat'}, vector=None, shard_key=None, order_value=None),\n",
       " ScoredPoint(id=960, version=1, score=0.25300366, payload={'artist': 'Karen Sanchez', 'song': 'card will American', 'url_song': 'https://www.thompson-daniel.org/', 'year': '2016', 'country': 'Netherlands Antilles'}, vector=None, shard_key=None, order_value=None),\n",
       " ScoredPoint(id=574, version=1, score=0.23355433, payload={'artist': 'Dr. Karen Harris DVM', 'song': 'fall source positive', 'url_song': 'https://www.crane.com/', 'year': '2005', 'country': 'Zimbabwe'}, vector=None, shard_key=None, order_value=None),\n",
       " ScoredPoint(id=462, version=1, score=0.23274522, payload={'artist': 'Christine Fleming', 'song': 'weight key pressure', 'url_song': 'https://wolf.net/', 'year': '2023', 'country': \"Lao People's Democratic Republic\"}, vector=None, shard_key=None, order_value=None),\n",
       " ScoredPoint(id=307, version=1, score=0.23131101, payload={'artist': 'Juan Escobar', 'song': 'sure machine sea', 'url_song': 'http://rodriguez-rowe.info/', 'year': '2013', 'country': 'Bahamas'}, vector=None, shard_key=None, order_value=None),\n",
       " ScoredPoint(id=631, version=1, score=0.23030733, payload={'artist': 'Jennifer Benson', 'song': 'for step bill', 'url_song': 'http://perez-ruiz.com/', 'year': '1980', 'country': 'Saint Kitts and Nevis'}, vector=None, shard_key=None, order_value=None),\n",
       " ScoredPoint(id=435, version=1, score=0.22886926, payload={'artist': 'Crystal Henderson', 'song': 'soon agree statement', 'url_song': 'http://lopez.com/', 'year': '2011', 'country': 'Tokelau'}, vector=None, shard_key=None, order_value=None),\n",
       " ScoredPoint(id=561, version=1, score=0.22843, payload={'artist': 'Michael Powell', 'song': 'college there road', 'url_song': 'http://greer-howard.com/', 'year': '1972', 'country': 'Somalia'}, vector=None, shard_key=None, order_value=None)]"
      ]
     },
     "execution_count": 37,
     "metadata": {},
     "output_type": "execute_result"
    }
   ],
   "source": [
    "client.search(\n",
    "    collection_name = my_collection,\n",
    "    query_vector=living_la_vida_loca,\n",
    "    limit = 10\n",
    ")"
   ]
  },
  {
   "cell_type": "code",
   "execution_count": 38,
   "id": "60d20bc5-f05e-4f34-bb11-2a2d203989e9",
   "metadata": {},
   "outputs": [
    {
     "data": {
      "text/plain": [
       "Filter(should=None, min_should=None, must=[FieldCondition(key='country', match=MatchValue(value='Australia'), range=None, geo_bounding_box=None, geo_radius=None, geo_polygon=None, values_count=None, is_empty=None, is_null=None)], must_not=None)"
      ]
     },
     "execution_count": 38,
     "metadata": {},
     "output_type": "execute_result"
    }
   ],
   "source": [
    "aussie_songs = models.Filter(\n",
    "    must=[\n",
    "        models.FieldCondition(\n",
    "            key=\"country\", match=models.MatchValue(value=\"Australia\")\n",
    "        )\n",
    "    ]\n",
    ")\n",
    "aussie_songs"
   ]
  },
  {
   "cell_type": "code",
   "execution_count": 39,
   "id": "e401cb1e-e690-45bb-b929-9e296d1841ce",
   "metadata": {},
   "outputs": [
    {
     "name": "stderr",
     "output_type": "stream",
     "text": [
      "/var/folders/px/41xvj7m11wgfhh9v8cjwg6lr0000gn/T/ipykernel_9443/785198045.py:1: DeprecationWarning: `search` method is deprecated and will be removed in the future. Use `query_points` instead.\n",
      "  client.search(\n"
     ]
    },
    {
     "data": {
      "text/plain": [
       "[ScoredPoint(id=417, version=1, score=0.07792984, payload={'artist': 'Scott Sanders', 'song': 'force measure school', 'url_song': 'https://www.reese-brown.org/', 'year': '2006', 'country': 'Australia'}, vector=None, shard_key=None, order_value=None),\n",
       " ScoredPoint(id=472, version=1, score=0.011704882, payload={'artist': 'Ronald Guzman', 'song': 'guy baby standard', 'url_song': 'http://www.fowler.biz/', 'year': '2010', 'country': 'Australia'}, vector=None, shard_key=None, order_value=None)]"
      ]
     },
     "execution_count": 39,
     "metadata": {},
     "output_type": "execute_result"
    }
   ],
   "source": [
    "client.search(\n",
    "    collection_name = my_collection,\n",
    "    query_vector=living_la_vida_loca,\n",
    "    query_filter=aussie_songs,\n",
    "    limit = 3\n",
    ")"
   ]
  },
  {
   "cell_type": "code",
   "execution_count": null,
   "id": "0dc233d3-de0a-4f4c-9cfd-dd5168eca609",
   "metadata": {},
   "outputs": [],
   "source": []
  }
 ],
 "metadata": {
  "kernelspec": {
   "display_name": "Python 3 (ipykernel)",
   "language": "python",
   "name": "python3"
  },
  "language_info": {
   "codemirror_mode": {
    "name": "ipython",
    "version": 3
   },
   "file_extension": ".py",
   "mimetype": "text/x-python",
   "name": "python",
   "nbconvert_exporter": "python",
   "pygments_lexer": "ipython3",
   "version": "3.11.13"
  }
 },
 "nbformat": 4,
 "nbformat_minor": 5
}
